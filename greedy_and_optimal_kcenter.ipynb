{
  "nbformat": 4,
  "nbformat_minor": 5,
  "metadata": {
    "kernelspec": {
      "display_name": "Python 3",
      "language": "python",
      "name": "python3"
    },
    "language_info": {
      "codemirror_mode": {
        "name": "ipython",
        "version": 3
      },
      "file_extension": ".py",
      "mimetype": "text/x-python",
      "name": "python",
      "nbconvert_exporter": "python",
      "pygments_lexer": "ipython3",
      "version": "3.7.8"
    },
    "colab": {
      "name": "18110165_HW1_ans4.ipynb",
      "provenance": [],
      "collapsed_sections": []
    }
  },
  "cells": [
    {
      "cell_type": "code",
      "metadata": {
        "id": "pleased-quilt"
      },
      "source": [
        "import numpy as np\n",
        "import pandas as pd\n",
        "import math\n",
        "import random\n",
        "from sklearn.preprocessing import normalize\n",
        "from sklearn.impute import SimpleImputer\n",
        "from numpy import linalg as LA"
      ],
      "id": "pleased-quilt",
      "execution_count": null,
      "outputs": []
    },
    {
      "cell_type": "code",
      "metadata": {
        "id": "medium-carpet"
      },
      "source": [
        "# add data\n",
        "dataset = pd.read_csv('CC_GENERAL.csv')\n",
        "X = dataset.iloc[:,1:]\n",
        "# print(X)"
      ],
      "id": "medium-carpet",
      "execution_count": null,
      "outputs": []
    },
    {
      "cell_type": "code",
      "metadata": {
        "id": "empirical-bryan"
      },
      "source": [
        "# handling missing values\n",
        "imputer = SimpleImputer(missing_values=np.nan, strategy='mean')\n",
        "imputer.fit(X)\n",
        "X = imputer.transform(X)\n",
        "X = pd.DataFrame(X)\n",
        "# print(X)"
      ],
      "id": "empirical-bryan",
      "execution_count": null,
      "outputs": []
    },
    {
      "cell_type": "code",
      "metadata": {
        "id": "destroyed-glenn"
      },
      "source": [
        "# normalizing according to columns\n",
        "X = normalize(X, axis=1)\n",
        "# print(X)"
      ],
      "id": "destroyed-glenn",
      "execution_count": null,
      "outputs": []
    },
    {
      "cell_type": "code",
      "metadata": {
        "id": "magnetic-moment"
      },
      "source": [
        "# distance between a centre and each point\n",
        "def distance(centers, point):\n",
        "    min_dist = math.inf\n",
        "    for c in range(len(centers)):\n",
        "        curr_dist = LA.norm((np.array(np.subtract(centers[c], point))))\n",
        "        if curr_dist < min_dist:\n",
        "            min_dist = curr_dist\n",
        "#         print(curr_dist)\n",
        "    return min_dist\n",
        "        "
      ],
      "id": "magnetic-moment",
      "execution_count": null,
      "outputs": []
    },
    {
      "cell_type": "code",
      "metadata": {
        "id": "convenient-cartoon"
      },
      "source": [
        "# function to select k centers\n",
        "def greedy_k(data, p):\n",
        "    ans = []\n",
        "    c = random.randrange(len(data))\n",
        "    # print(c)\n",
        "    ans.append(data[c])\n",
        "    np.delete(data, c)\n",
        "    num = 1\n",
        "    while(num<p):\n",
        "        max_dis = 0\n",
        "        new_center = 0\n",
        "        for row in range(len(data)):\n",
        "            dist = distance(ans, data[row])\n",
        "            if dist>max_dis:\n",
        "                max_dis = dist\n",
        "                new_center = row\n",
        "        ans.append(data[new_center])\n",
        "        np.delete(data, new_center)\n",
        "        num+=1\n",
        "    return ans, data"
      ],
      "id": "convenient-cartoon",
      "execution_count": null,
      "outputs": []
    },
    {
      "cell_type": "code",
      "metadata": {
        "colab": {
          "base_uri": "https://localhost:8080/"
        },
        "id": "advance-hormone",
        "outputId": "831403d0-5610-4adf-f04b-7b458268d014"
      },
      "source": [
        "# greedy k center algorithm\n",
        "num_ctrs = [2,4,10]\n",
        "greedy_costs = []\n",
        "for k in num_ctrs:\n",
        "    objective = 0\n",
        "    M = X[0:50]\n",
        "    centers, mod_data = greedy_k(M, k)\n",
        "    for row in mod_data:\n",
        "        min_d = math.inf\n",
        "        for ct in centers:\n",
        "            currd = LA.norm(np.array(np.subtract(ct, row)))\n",
        "            if currd < min_d:\n",
        "                min_d = currd\n",
        "        objective = max(objective, min_d)\n",
        "    greedy_costs.append(objective)\n",
        "for j in range(len(num_ctrs)):\n",
        "  print(\"k = \", num_ctrs[j], \"cost of clustering = \", greedy_costs[j])"
      ],
      "id": "advance-hormone",
      "execution_count": null,
      "outputs": [
        {
          "output_type": "stream",
          "text": [
            "k =  2 cost of clustering =  1.0334155972714831\n",
            "k =  4 cost of clustering =  0.7877457047941936\n",
            "k =  10 cost of clustering =  0.48459575749097517\n"
          ],
          "name": "stdout"
        }
      ]
    },
    {
      "cell_type": "code",
      "metadata": {
        "id": "coral-fisher"
      },
      "source": [
        "# optimal k-center algorithm\n",
        "from itertools import combinations\n",
        "def optimal_k(data, k):\n",
        "    arr = [i for i in range(len(data))]\n",
        "    # print(arr)\n",
        "    centers = list(combinations(arr, k))\n",
        "    final_cost = math.inf\n",
        "    for curr_centers in centers:\n",
        "        objective = 0\n",
        "        for row in range(len(data)):\n",
        "            if row not in curr_centers:\n",
        "                min_d = math.inf\n",
        "                for center in curr_centers:\n",
        "                    currd = LA.norm(np.array(np.subtract(data[center], data[row])))\n",
        "                    if currd < min_d:\n",
        "                        min_d = currd\n",
        "                objective = max(objective, min_d)\n",
        "        if objective < final_cost:\n",
        "            final_cost = objective\n",
        "            final_center = curr_centers\n",
        "    return final_center, final_cost"
      ],
      "id": "coral-fisher",
      "execution_count": null,
      "outputs": []
    },
    {
      "cell_type": "code",
      "metadata": {
        "colab": {
          "base_uri": "https://localhost:8080/"
        },
        "id": "figured-spread",
        "outputId": "38bdeee4-e01f-458a-c8eb-4a7503aec877"
      },
      "source": [
        "num_ctrs = [2, 4]\n",
        "opt_costs = []\n",
        "for k in num_ctrs:\n",
        "    M = X[0:50]\n",
        "    cost = optimal_k(M, k)\n",
        "    opt_costs.append(cost[1])\n",
        "    print(\"k = \", k, \"cost of clustering = \", cost[1])"
      ],
      "id": "figured-spread",
      "execution_count": null,
      "outputs": [
        {
          "output_type": "stream",
          "text": [
            "k =  2 cost of clustering =  0.8312290826212347\n",
            "k =  4 cost of clustering =  0.6171438786897351\n"
          ],
          "name": "stdout"
        }
      ]
    },
    {
      "cell_type": "code",
      "metadata": {
        "id": "excellent-swing",
        "colab": {
          "base_uri": "https://localhost:8080/"
        },
        "outputId": "b79b15c4-8fb2-4a6b-e97b-430480e02cb5"
      },
      "source": [
        "# approximation factor\n",
        "print(\"For k = 2, approximation factor is \")\n",
        "print(greedy_costs[0]/opt_costs[0])\n",
        "print()\n",
        "print(\"For k = 4, approximation factor is \")\n",
        "print(greedy_costs[1]/opt_costs[1])"
      ],
      "id": "excellent-swing",
      "execution_count": null,
      "outputs": [
        {
          "output_type": "stream",
          "text": [
            "For k = 2, approximation factor is \n",
            "1.2432380181076732\n",
            "\n",
            "For k = 4, approximation factor is \n",
            "1.2764376865677824\n"
          ],
          "name": "stdout"
        }
      ]
    }
  ]
}