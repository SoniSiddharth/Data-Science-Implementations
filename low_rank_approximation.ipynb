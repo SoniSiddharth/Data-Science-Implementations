{
  "nbformat": 4,
  "nbformat_minor": 0,
  "metadata": {
    "colab": {
      "name": "HW2_Ans5_18110165.ipynb",
      "provenance": [],
      "collapsed_sections": []
    },
    "kernelspec": {
      "name": "python3",
      "display_name": "Python 3"
    },
    "language_info": {
      "name": "python"
    }
  },
  "cells": [
    {
      "cell_type": "code",
      "metadata": {
        "colab": {
          "base_uri": "https://localhost:8080/"
        },
        "id": "h_mBjCssIvO5",
        "outputId": "15e4859b-1e99-4bfd-cdac-a11fcd387e4c"
      },
      "source": [
        "!wget https://files.grouplens.org/datasets/movielens/ml-latest-small.zip --no-check-certificate\n",
        "!rm -rf ml-latest-small\n",
        "!unzip ml-latest-small.zip\n",
        "!mv /content/ml-latest-small/ratings.csv /content/\n",
        "!rm -rf ml-latest-small"
      ],
      "execution_count": null,
      "outputs": [
        {
          "output_type": "stream",
          "text": [
            "--2021-04-23 20:40:45--  https://files.grouplens.org/datasets/movielens/ml-latest-small.zip\n",
            "Resolving files.grouplens.org (files.grouplens.org)... 128.101.65.152\n",
            "Connecting to files.grouplens.org (files.grouplens.org)|128.101.65.152|:443... connected.\n",
            "WARNING: cannot verify files.grouplens.org's certificate, issued by ‘CN=InCommon RSA Server CA,OU=InCommon,O=Internet2,L=Ann Arbor,ST=MI,C=US’:\n",
            "  Unable to locally verify the issuer's authority.\n",
            "HTTP request sent, awaiting response... 200 OK\n",
            "Length: 978202 (955K) [application/zip]\n",
            "Saving to: ‘ml-latest-small.zip’\n",
            "\n",
            "ml-latest-small.zip 100%[===================>] 955.28K  2.91MB/s    in 0.3s    \n",
            "\n",
            "2021-04-23 20:40:45 (2.91 MB/s) - ‘ml-latest-small.zip’ saved [978202/978202]\n",
            "\n",
            "Archive:  ml-latest-small.zip\n",
            "   creating: ml-latest-small/\n",
            "  inflating: ml-latest-small/links.csv  \n",
            "  inflating: ml-latest-small/tags.csv  \n",
            "  inflating: ml-latest-small/ratings.csv  \n",
            "  inflating: ml-latest-small/README.txt  \n",
            "  inflating: ml-latest-small/movies.csv  \n"
          ],
          "name": "stdout"
        }
      ]
    },
    {
      "cell_type": "code",
      "metadata": {
        "id": "KuxjVkyno7KX"
      },
      "source": [
        "import numpy as np\n",
        "import pandas as pd\n",
        "import random\n",
        "from collections import defaultdict\n",
        "from collections import OrderedDict\n",
        "from sklearn.model_selection import train_test_split\n",
        "\n",
        "file1 = pd.DataFrame(pd.read_csv(\"ratings.csv\", delimiter=','))"
      ],
      "execution_count": null,
      "outputs": []
    },
    {
      "cell_type": "code",
      "metadata": {
        "colab": {
          "base_uri": "https://localhost:8080/"
        },
        "id": "lTptPqIVoMUd",
        "outputId": "b3cd0d5d-750d-4fc1-80c9-a2c25d78e5b5"
      },
      "source": [
        "samples, cols = file1.shape\n",
        "data = np.array(file1)\n",
        "user_set = set(file1[\"userId\"])\n",
        "users = len(user_set)\n",
        "movie_set = set(file1[\"movieId\"])\n",
        "movies = len(movie_set)\n",
        "print(\"total users --> \", users)\n",
        "print(\"total movies --> \", movies)\n",
        "max_user = max(user_set)\n",
        "max_movie = max(movie_set)\n",
        "print(\"Max user ID --> \", max_user)\n",
        "print(\"Max movie ID --> \", max_movie)"
      ],
      "execution_count": null,
      "outputs": [
        {
          "output_type": "stream",
          "text": [
            "total users -->  610\n",
            "total movies -->  9724\n",
            "Max user ID -->  610\n",
            "Max movie ID -->  193609\n"
          ],
          "name": "stdout"
        }
      ]
    },
    {
      "cell_type": "code",
      "metadata": {
        "id": "ZGzbwUvpoK0r"
      },
      "source": [
        "original_train, original_test = train_test_split(file1, test_size = 0.2, random_state=42)\n",
        "original_train = np.array(original_train)\n",
        "original_test = np.array(original_test)\n",
        "# print(original_test)\n",
        "\n",
        "N,M = original_train.shape\n",
        "n_test, m_test = original_test.shape"
      ],
      "execution_count": null,
      "outputs": []
    },
    {
      "cell_type": "code",
      "metadata": {
        "id": "zjELevQln9ri"
      },
      "source": [
        "train_mtrx= []\n",
        "test_mtrx = []\n",
        "for j in range(max_user+1):\n",
        "    x = [0]*(max_movie+1)\n",
        "    y = [0]*(max_movie+1)\n",
        "    train_mtrx.append(x)\n",
        "    test_mtrx.append(y)\n",
        "\n",
        "for j in range(N):\n",
        "    # print(\"x --> \", int(original_train[j][0]))\n",
        "    # print(\"y --> \", int(original_train[j][1]))\n",
        "    train_mtrx[int(original_train[j][0])][int(original_train[j][1])] = original_train[j][2]\n",
        "\n",
        "for j in range(len(original_test)):\n",
        "    test_mtrx[int(original_test[j][0])][int(original_test[j][1])] = original_test[j][2]"
      ],
      "execution_count": null,
      "outputs": []
    },
    {
      "cell_type": "code",
      "metadata": {
        "id": "i_hS-WU4oBXA"
      },
      "source": [
        "list_errors = []\n",
        "k_values = []\n",
        "u, s, v = np.linalg.svd(train_mtrx, full_matrices=False)\n",
        "sm = np.diag(s)\n",
        "for k in range(1, 101):\n",
        "    pred_mtrx = u[:,:k] @ sm[:k, :k] @ v[:k, :]\n",
        "    # print(pred_mtrx.shape)\n",
        "    err = 0\n",
        "    for j in range(n_test):\n",
        "        x = pred_mtrx[int(original_test[j][0])][int(original_test[j][1])]\n",
        "        err += (x-original_test[j][2])**2\n",
        "    # print(err)\n",
        "    k_values.append(k)\n",
        "    list_errors.append(err)"
      ],
      "execution_count": null,
      "outputs": []
    },
    {
      "cell_type": "code",
      "metadata": {
        "colab": {
          "base_uri": "https://localhost:8080/"
        },
        "id": "obuwoGiagikG",
        "outputId": "45b71bce-5a4f-40e8-ed8e-5735de45e4d2"
      },
      "source": [
        "print(k_values)\n",
        "print(list_errors)"
      ],
      "execution_count": null,
      "outputs": [
        {
          "output_type": "stream",
          "text": [
            "[1, 2, 3, 4, 5, 6, 7, 8, 9, 10, 11, 12, 13, 14, 15, 16, 17, 18, 19, 20, 21, 22, 23, 24, 25, 26, 27, 28, 29, 30, 31, 32, 33, 34, 35, 36, 37, 38, 39, 40, 41, 42, 43, 44, 45, 46, 47, 48, 49, 50, 51, 52, 53, 54, 55, 56, 57, 58, 59, 60, 61, 62, 63, 64, 65, 66, 67, 68, 69, 70, 71, 72, 73, 74, 75, 76, 77, 78, 79, 80, 81, 82, 83, 84, 85, 86, 87, 88, 89, 90, 91, 92, 93, 94, 95, 96, 97, 98, 99, 100]\n",
            "[199136.91069976313, 189354.71610538123, 183489.28647625115, 179822.99000622513, 177656.27798978848, 176146.27546186367, 175832.46667154462, 175926.6390742664, 175634.6437495738, 176232.34640140747, 176953.2453316284, 177967.9991960691, 179141.9980208287, 179574.06698264307, 180408.78775339067, 180909.73977666005, 181489.4355442758, 182378.29433098578, 183065.332827639, 184337.06596981105, 184925.56603298438, 185774.14262674842, 186309.7117907096, 187010.7035462943, 187654.58296586713, 188670.1082206907, 189474.48582649065, 189922.74983824877, 190455.4232309365, 191138.55074056296, 191440.51001498286, 191959.2534955169, 192650.3822264949, 193460.77973660766, 194305.10320998312, 195114.24465813368, 195714.14652050275, 196201.85291344617, 196881.53851530977, 197328.15716810938, 197993.40918765686, 198461.29970789995, 199056.02041340605, 199750.1995163477, 200250.45659953335, 200930.74698966043, 201796.69387928466, 202602.79219334148, 203248.08479837963, 203755.06083581687, 204439.1740653289, 205014.87313221066, 205627.88318872268, 206304.48123916629, 207040.0196086541, 207737.67655094224, 208506.27625679594, 209050.16089080813, 209555.05513747572, 210230.2826453351, 210783.23884663405, 211489.76336139755, 212112.71391876412, 212610.97027141805, 213146.82698548847, 213638.4235138627, 214210.01286825843, 214876.22356261397, 215309.4396685213, 216060.96523469698, 216544.9482596006, 217075.55228690966, 217505.7420585572, 218103.19953013986, 218522.12297577757, 219055.3034493545, 219569.83305342947, 220084.58195358582, 220505.05246351252, 220994.9498944119, 221441.27696413232, 221736.92817440256, 222187.23290305067, 222636.65848031084, 222954.14321729486, 223326.43582626068, 223811.0401799238, 224236.1536483634, 224728.81226198666, 225068.57733179998, 225405.54256438752, 225786.96704284675, 226195.36409405913, 226595.9586725354, 227177.74639487817, 227750.97063949567, 228122.49916042932, 228492.68104874998, 228885.80599147305, 229190.49338416228]\n"
          ],
          "name": "stdout"
        }
      ]
    },
    {
      "cell_type": "code",
      "metadata": {
        "colab": {
          "base_uri": "https://localhost:8080/",
          "height": 296
        },
        "id": "xvt_oUUfoGTi",
        "outputId": "db8ec430-027c-4bdd-e6e1-fa66ad456a3b"
      },
      "source": [
        "import matplotlib.pyplot as plt\n",
        "plt.scatter(k_values,list_errors)\n",
        "plt.xlabel(\"K values\")\n",
        "plt.ylabel(\"error\")\n",
        "plt.legend()\n",
        "plt.show()"
      ],
      "execution_count": null,
      "outputs": [
        {
          "output_type": "stream",
          "text": [
            "No handles with labels found to put in legend.\n"
          ],
          "name": "stderr"
        },
        {
          "output_type": "display_data",
          "data": {
            "image/png": "[encoded data removed]",
            "text/plain": [
              "<Figure size 432x288 with 1 Axes>"
            ]
          },
          "metadata": {
            "tags": [],
            "needs_background": "light"
          }
        }
      ]
    },
    {
      "cell_type": "code",
      "metadata": {
        "colab": {
          "base_uri": "https://localhost:8080/"
        },
        "id": "r8w-KnTRnp8r",
        "outputId": "e840e72d-03ce-4f31-c04b-ad70ed9af58c"
      },
      "source": [
        "user_avg = {}\n",
        "for i in range(N):\n",
        "    user = original_train[i][0]\n",
        "    if user not in user_avg:\n",
        "        avg = 0\n",
        "        ct = 0\n",
        "        for j in range(N):\n",
        "            if original_train[j][0]==user:\n",
        "                avg+=original_train[j][2]\n",
        "                ct+=1\n",
        "        user_avg[user] = avg/ct\n",
        "print(\"number of users in training set --> \", len(user_avg))"
      ],
      "execution_count": null,
      "outputs": [
        {
          "output_type": "stream",
          "text": [
            "number of users in training set -->  610\n"
          ],
          "name": "stdout"
        }
      ]
    },
    {
      "cell_type": "code",
      "metadata": {
        "colab": {
          "base_uri": "https://localhost:8080/"
        },
        "id": "tEa2Yz78nqO9",
        "outputId": "457889d7-f537-4de1-b19d-f2dae2e8838e"
      },
      "source": [
        "movie_avg = {}\n",
        "for i in range(N):\n",
        "    mv = original_train[i][1]\n",
        "    if mv not in movie_avg:\n",
        "        avg = 0\n",
        "        ct = 0\n",
        "        for j in range(N):\n",
        "            if original_train[j][1]==mv:\n",
        "                avg+=original_train[j][2]\n",
        "                ct+=1\n",
        "        movie_avg[mv] = avg/ct\n",
        "print(\"movies in training set --> \", len(movie_avg))"
      ],
      "execution_count": null,
      "outputs": [
        {
          "output_type": "stream",
          "text": [
            "movies in training set -->  8983\n"
          ],
          "name": "stdout"
        }
      ]
    },
    {
      "cell_type": "code",
      "metadata": {
        "id": "agG8A3p3nu0u"
      },
      "source": [
        "trainX_set = []\n",
        "trainY_set = []\n",
        "for i in range(N):\n",
        "    temp = [user_avg[original_train[i][0]], movie_avg[original_train[i][1]]]\n",
        "    trainX_set.append(temp)\n",
        "    trainY_set.append(original_train[i][2])\n",
        "trainX_set = np.array(trainX_set)\n",
        "trainY_set = np.array(trainY_set)"
      ],
      "execution_count": null,
      "outputs": []
    },
    {
      "cell_type": "code",
      "metadata": {
        "id": "xA3qM_Hinw0R"
      },
      "source": [
        "testX_set = []\n",
        "testY_set = []\n",
        "for i in range(n_test):\n",
        "    if original_test[i][0] in user_avg and original_test[i][1] in movie_avg:\n",
        "      temp = [user_avg[original_test[i][0]], movie_avg[original_test[i][1]]]\n",
        "      testX_set.append(temp)\n",
        "      testY_set.append(original_test[i][2])\n",
        "    elif original_test[i][0] in user_avg:\n",
        "      temp = [user_avg[original_test[i][0]], 0]\n",
        "      testX_set.append(temp)\n",
        "      testY_set.append(original_test[i][2])\n",
        "    elif original_test[i][1] in movie_avg:\n",
        "      temp = [0, movie_avg[original_test[i][1]]]\n",
        "      testX_set.append(temp)\n",
        "      testY_set.append(original_test[i][2])\n",
        "    else:\n",
        "      temp = [0,0]\n",
        "      testX_set.append(temp)\n",
        "      testY_set.append(original_test[i][2])\n",
        "testX_set = np.array(testX_set)\n",
        "testY_set = np.array(testY_set)"
      ],
      "execution_count": null,
      "outputs": []
    },
    {
      "cell_type": "code",
      "metadata": {
        "id": "ilcyc_1anygR"
      },
      "source": [
        "def error_calc(y_hat, y):\n",
        "    y_hat = np.array(y_hat)\n",
        "    assert(y_hat.size == y.size)\n",
        "    sm = 0.0\n",
        "    l = len(y)\n",
        "    for j in range(l):\n",
        "        sm += (y_hat[j]-y[j])**2\n",
        "    return sm"
      ],
      "execution_count": null,
      "outputs": []
    },
    {
      "cell_type": "code",
      "metadata": {
        "colab": {
          "base_uri": "https://localhost:8080/"
        },
        "id": "WA0fNWnMn0ou",
        "outputId": "c0d8fe01-94af-4017-d2ef-296155fb7caa"
      },
      "source": [
        "from sklearn.linear_model import LinearRegression\n",
        "LR = LinearRegression()\n",
        "trainX_set = pd.DataFrame(trainX_set)\n",
        "trainY_set = pd.Series(trainY_set)\n",
        "LR.fit(trainX_set, trainY_set)\n",
        "y_hat = LR.predict(testX_set)\n",
        "error = error_calc(y_hat, testY_set)\n",
        "print(error)"
      ],
      "execution_count": null,
      "outputs": [
        {
          "output_type": "stream",
          "text": [
            "22751.16882044244\n"
          ],
          "name": "stdout"
        }
      ]
    },
    {
      "cell_type": "markdown",
      "metadata": {
        "id": "ClYs2TIDaGdW"
      },
      "source": [
        "So the average error in the baseline algorithm is 22751.1688 whereas the minimum error low rank approximation was 176000"
      ]
    }
  ]
}