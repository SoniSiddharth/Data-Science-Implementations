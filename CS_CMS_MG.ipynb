{
  "nbformat": 4,
  "nbformat_minor": 0,
  "metadata": {
    "colab": {
      "name": "HW2_Ans4_18110165.ipynb",
      "provenance": [],
      "collapsed_sections": []
    },
    "kernelspec": {
      "name": "python3",
      "display_name": "Python 3"
    },
    "language_info": {
      "name": "python"
    }
  },
  "cells": [
    {
      "cell_type": "code",
      "metadata": {
        "colab": {
          "base_uri": "https://localhost:8080/"
        },
        "id": "XuyqbB9rmAvs",
        "outputId": "79a819f4-0559-4a65-ce15-f1ae6c55379d"
      },
      "source": [
        "! wget http://qwone.com/~jason/20Newsgroups/20news-bydate-matlab.tgz\n",
        "! tar xzvf 20news-bydate-matlab.tgz\n",
        "! cp /content/20news-bydate/matlab/train.data /content/\n",
        "! rm -rf 20news-bydate"
      ],
      "execution_count": null,
      "outputs": [
        {
          "output_type": "stream",
          "text": [
            "--2021-04-23 21:13:53--  http://qwone.com/~jason/20Newsgroups/20news-bydate-matlab.tgz\n",
            "Resolving qwone.com (qwone.com)... 173.48.209.137\n",
            "Connecting to qwone.com (qwone.com)|173.48.209.137|:80... connected.\n",
            "HTTP request sent, awaiting response... 200 OK\n",
            "Length: 7575962 (7.2M) [application/x-gzip]\n",
            "Saving to: ‘20news-bydate-matlab.tgz’\n",
            "\n",
            "20news-bydate-matla 100%[===================>]   7.22M  2.21MB/s    in 3.3s    \n",
            "\n",
            "2021-04-23 21:13:56 (2.21 MB/s) - ‘20news-bydate-matlab.tgz’ saved [7575962/7575962]\n",
            "\n",
            "20news-bydate/matlab/\n",
            "20news-bydate/matlab/train.data\n",
            "20news-bydate/matlab/train.label\n",
            "20news-bydate/matlab/train.map\n",
            "20news-bydate/matlab/test.data\n",
            "20news-bydate/matlab/test.label\n",
            "20news-bydate/matlab/test.map\n"
          ],
          "name": "stdout"
        }
      ]
    },
    {
      "cell_type": "code",
      "metadata": {
        "id": "wg-q20bZmqp8"
      },
      "source": [
        "import numpy as np\n",
        "import pandas as pd\n",
        "import random\n",
        "from collections import defaultdict\n",
        "import statistics\n",
        "\n",
        "file1 = open('train.data', 'r')\n",
        "Lines = file1.readlines()\n",
        "original_freq = defaultdict(int)\n",
        "\n",
        "# count original frequency and test set\n",
        "\n",
        "for line in Lines:\n",
        "    docidx, wordidx, countidx = map(int, line.split())\n",
        "    original_freq[wordidx] += countidx\n",
        "\n",
        "arr = []\n",
        "for j in original_freq:\n",
        "    arr.append((j, original_freq[j]))\n",
        "arr.sort(key= lambda x: x[1], reverse=True)\n",
        "\n",
        "final_arr = []\n",
        "taken = set()\n",
        "j = 0\n",
        "while(j<100):\n",
        "    x = random.randint(0, 999)\n",
        "    if x in taken:\n",
        "        continue\n",
        "    else:\n",
        "        taken.add(x)\n",
        "        final_arr.append(arr[x])\n",
        "        j+=1\n",
        "\n",
        "k_values = [100, 200, 500, 1000, 2000]\n",
        "w = 5"
      ],
      "execution_count": null,
      "outputs": []
    },
    {
      "cell_type": "markdown",
      "metadata": {
        "id": "Gbw-_bYzMSUD"
      },
      "source": [
        "Count Sketch"
      ]
    },
    {
      "cell_type": "code",
      "metadata": {
        "colab": {
          "base_uri": "https://localhost:8080/"
        },
        "id": "qDbQoik6MaeA",
        "outputId": "8178f656-de5f-4322-8cf0-c03926cd92a0"
      },
      "source": [
        "def CS_sketch(k, w, p, params):\n",
        "  d = k//w\n",
        "  sketch = []\n",
        "  for j in range(w):\n",
        "      x = [0]*d\n",
        "      sketch.append(x)\n",
        "\n",
        "  for line in Lines:\n",
        "      docidx, wordidx, countidx = map(int, line.split())\n",
        "      for j in params:\n",
        "          a,b = params[j][0]\n",
        "          c,v = params[j][1]\n",
        "          x = ((a*wordidx + b)%p)%d\n",
        "          temp = ((c*wordidx + v)%p)%2\n",
        "          if (temp==0):\n",
        "              g = -1\n",
        "          else:\n",
        "              g = 1\n",
        "          sketch[j][x] += g*countidx\n",
        "\n",
        "  err = 0\n",
        "  for j in range(100):\n",
        "      word = final_arr[j][0]\n",
        "      fx = final_arr[j][1]\n",
        "      ans = []\n",
        "      for j in params:\n",
        "          a,b = params[j][0]\n",
        "          c,v = params[j][1]\n",
        "          x = ((a*word + b)%p)%d\n",
        "          temp = ((c*word + v)%p)%2\n",
        "          if (temp==0):\n",
        "              g = -1\n",
        "          else:\n",
        "              g = 1\n",
        "          ans.append(g*sketch[j][x])\n",
        "      final = int(statistics.median(ans))\n",
        "      err += abs(fx-final)/fx\n",
        "  err = err/100\n",
        "  return err\n",
        "\n",
        "p = 2**31 - 1\n",
        "cs_errors = []\n",
        "params = {}\n",
        "all_params = {}\n",
        "j = 0\n",
        "w = 5\n",
        "while j<w:\n",
        "    a = random.randint(1, p)\n",
        "    b = random.randint(1, p)\n",
        "    c = random.randint(1, p)\n",
        "    v = random.randint(1, p)\n",
        "    if a in all_params and b in all_params:\n",
        "      continue\n",
        "    elif c in all_params and v in all_params:\n",
        "      continue\n",
        "    else:\n",
        "      all_params[a] = 0\n",
        "      all_params[b] = 0\n",
        "      all_params[c] = 0\n",
        "      all_params[v] = 0\n",
        "      params[j] = [(a,b), (c,v)]\n",
        "      j+=1\n",
        "# print(params)\n",
        "for k in k_values:\n",
        "  error = CS_sketch(k, w, p, params)\n",
        "  cs_errors.append(error)\n",
        "print(cs_errors)"
      ],
      "execution_count": null,
      "outputs": [
        {
          "output_type": "stream",
          "text": [
            "[25.806105414775, 18.629308634904966, 5.6126023142098145, 2.9853180437648206, 1.1702040320576197]\n"
          ],
          "name": "stdout"
        }
      ]
    },
    {
      "cell_type": "markdown",
      "metadata": {
        "id": "UN6UDC8FOFVG"
      },
      "source": [
        "Count Min Sketch"
      ]
    },
    {
      "cell_type": "code",
      "metadata": {
        "colab": {
          "base_uri": "https://localhost:8080/"
        },
        "id": "nP3vwebEmx_F",
        "outputId": "1b705b87-885d-49c5-b3f2-a6d78ffe4358"
      },
      "source": [
        "def CM_sketch(k,w,p):\n",
        "    d = k//w\n",
        "    params = {}\n",
        "    all_params = {}\n",
        "    original_freq = defaultdict(int)\n",
        "\n",
        "    for j in range(w):\n",
        "        a = random.randint(1, p)\n",
        "        b = random.randint(1, p)\n",
        "        all_params[a] = 0\n",
        "        all_params[b] = 0\n",
        "        params[j] = (a,b)\n",
        "\n",
        "    sketch = []\n",
        "    for j in range(w):\n",
        "        x = [0]*d\n",
        "        sketch.append(x)\n",
        "\n",
        "    for line in Lines:\n",
        "        docidx, wordidx, countidx = map(int, line.split())\n",
        "        for j in params:\n",
        "            a,b = params[j]\n",
        "            x = ((a*wordidx + b)%p)%d\n",
        "            sketch[j][x] += countidx\n",
        "\n",
        "    # print(sketch)\n",
        "    arr = []\n",
        "    for j in original_freq:\n",
        "        arr.append((j, original_freq[j]))\n",
        "    arr.sort(key= lambda x: x[1], reverse=True)\n",
        "\n",
        "    err = 0\n",
        "    for j in range(100):\n",
        "        word = final_arr[j][0]\n",
        "        fx = final_arr[j][1]\n",
        "        ans = 2**31\n",
        "        for j in params:\n",
        "            a,b = params[j]\n",
        "            x = ((a*word + b)%p)%d\n",
        "            ans = min(sketch[j][x], ans)\n",
        "        err += abs(fx-ans)/fx\n",
        "    err = err/100\n",
        "    return err\n",
        "\n",
        "p = 2**31 - 1\n",
        "cm_errors = []\n",
        "for k in k_values:\n",
        "  error = CM_sketch(k, w, p)\n",
        "  cm_errors.append(error)\n",
        "print(cm_errors)"
      ],
      "execution_count": null,
      "outputs": [
        {
          "output_type": "stream",
          "text": [
            "[173.1995762464932, 74.74012804778238, 26.106393458747178, 12.129432805837862, 4.9627088384172575]\n"
          ],
          "name": "stdout"
        }
      ]
    },
    {
      "cell_type": "markdown",
      "metadata": {
        "id": "t07eXhc4Oceg"
      },
      "source": [
        "Misra-Gries Algorithm"
      ]
    },
    {
      "cell_type": "code",
      "metadata": {
        "id": "-WRp2xOIOilA"
      },
      "source": [
        "original_freq = defaultdict(int)\n",
        "from collections import Counter\n",
        "\n",
        "def misra_gries(k):\n",
        "    counters = Counter()\n",
        "    for line in Lines:\n",
        "        docidx, wordidx, countidx = map(int, line.split())\n",
        "        original_freq[wordidx] += countidx\n",
        "        if wordidx in counters or len(counters) < k:\n",
        "            counters[wordidx] += 1\n",
        "        else:\n",
        "            for key in list(counters.keys()):\n",
        "                counters[key] -= 1\n",
        "                if counters[key] == 0:\n",
        "                    del counters[key]\n",
        "    return counters"
      ],
      "execution_count": null,
      "outputs": []
    },
    {
      "cell_type": "code",
      "metadata": {
        "colab": {
          "base_uri": "https://localhost:8080/"
        },
        "id": "q_i1BbGfOh94",
        "outputId": "e26e54af-9c03-46ba-d96e-55648f2c3232"
      },
      "source": [
        "mg_errors = []\n",
        "for k in k_values:\n",
        "    top_words = misra_gries(k)\n",
        "    err = 0\n",
        "    for j in range(100):\n",
        "      word = final_arr[j][0]\n",
        "      fx = final_arr[j][1]\n",
        "      if word in top_words:\n",
        "        err += abs(fx - top_words[word])/fx\n",
        "      else:\n",
        "        err += abs(fx)/fx\n",
        "    err = err/100\n",
        "    mg_errors.append(err/100)\n",
        "\n",
        "print(mg_errors)"
      ],
      "execution_count": null,
      "outputs": [
        {
          "output_type": "stream",
          "text": [
            "[0.01, 0.009999667935525949, 0.009974462102357706, 0.009784966886983219, 0.00901999757181991]\n"
          ],
          "name": "stdout"
        }
      ]
    },
    {
      "cell_type": "code",
      "metadata": {
        "colab": {
          "base_uri": "https://localhost:8080/",
          "height": 279
        },
        "id": "WUCoWmbewbAR",
        "outputId": "cba45322-a2a7-4252-d56f-8692a7a530d3"
      },
      "source": [
        "import matplotlib.pyplot as plt\n",
        "plt.plot(k_values,cs_errors, label=\"CS\")\n",
        "plt.plot(k_values,cm_errors, label=\"CM\")\n",
        "plt.plot(k_values,mg_errors, label=\"MG\")\n",
        "plt.xlabel(\"K values\")\n",
        "plt.ylabel(\"error\")\n",
        "plt.legend()\n",
        "plt.show()"
      ],
      "execution_count": null,
      "outputs": [
        {
          "output_type": "display_data",
          "data": {
            "image/png": "[encoded data removed]",
            "text/plain": [
              "<Figure size 432x288 with 1 Axes>"
            ]
          },
          "metadata": {
            "tags": [],
            "needs_background": "light"
          }
        }
      ]
    },
    {
      "cell_type": "markdown",
      "metadata": {
        "id": "qodPjah3rsQ6"
      },
      "source": [
        "Count Min sketch Min d value"
      ]
    },
    {
      "cell_type": "code",
      "metadata": {
        "colab": {
          "base_uri": "https://localhost:8080/"
        },
        "id": "KYjWT881m7Ry",
        "outputId": "e68e7f8b-75a0-4414-9d79-b1c15440bdaa"
      },
      "source": [
        "n = 120000\n",
        "while(error<1):\n",
        "  error = CM_sketch(n, w, p)*100\n",
        "  n = n-1000\n",
        "print(\"Minimum d for CM sketch is -->\", n+1000)"
      ],
      "execution_count": null,
      "outputs": [
        {
          "output_type": "stream",
          "text": [
            "1.1408162712016898\n",
            "106000\n"
          ],
          "name": "stdout"
        }
      ]
    },
    {
      "cell_type": "markdown",
      "metadata": {
        "id": "nkWXNpDXrxfw"
      },
      "source": [
        "Count Sketch Min d value"
      ]
    },
    {
      "cell_type": "code",
      "metadata": {
        "colab": {
          "base_uri": "https://localhost:8080/"
        },
        "id": "HV-jYrvOoSR3",
        "outputId": "0aee9f6b-b7ee-449d-a17b-ddfe75b55e66"
      },
      "source": [
        "p = 2**31 - 1\n",
        "cs_errors = []\n",
        "params = {}\n",
        "all_params = {}\n",
        "j = 0\n",
        "w = 5\n",
        "while j<w:\n",
        "    a = random.randint(1, p)\n",
        "    b = random.randint(1, p)\n",
        "    c = random.randint(1, p)\n",
        "    v = random.randint(1, p)\n",
        "    if a in all_params and b in all_params:\n",
        "      continue\n",
        "    elif c in all_params and v in all_params:\n",
        "      continue\n",
        "    else:\n",
        "      all_params[a] = 0\n",
        "      all_params[b] = 0\n",
        "      all_params[c] = 0\n",
        "      all_params[v] = 0\n",
        "      params[j] = [(a,b), (c,v)]\n",
        "      j+=1\n",
        "n = 240000\n",
        "error = 0\n",
        "while(error<1):\n",
        "  error = CS_sketch(n, w, p, params)*100\n",
        "  print(error)\n",
        "  n = n-1000\n",
        "print(\"Minimum d for CS sketch is -->\", n+1000)"
      ],
      "execution_count": null,
      "outputs": [
        {
          "output_type": "stream",
          "text": [
            "0.3350023523712924\n",
            "0.1814762161102318\n",
            "0.3129080512091402\n",
            "0.5243396357892253\n",
            "0.07557078654327473\n",
            "0.3742813026419678\n",
            "0.2504763654585799\n",
            "0.17801236700411152\n",
            "0.13707254111151942\n",
            "0.08506260602087946\n",
            "0.08370677289007251\n",
            "0.76823412541546\n",
            "0.8494652126868618\n",
            "0.3560384493994261\n",
            "0.6702921822644737\n",
            "0.17554178295275893\n",
            "0.38194187061203183\n",
            "0.2082937099316481\n",
            "0.2301835436652239\n",
            "0.8002384684908277\n",
            "0.2888171512175761\n",
            "0.24218302070337228\n",
            "0.2626513043113814\n",
            "0.22604181582938718\n",
            "0.7525224900613425\n",
            "0.33249890877916977\n",
            "0.23161487786726065\n",
            "0.22125242057594416\n",
            "0.2076421159607899\n",
            "0.2516271940587898\n",
            "0.34218659457651784\n",
            "0.14102279978723226\n",
            "1.0345674350505163\n",
            "Minimum d for CS sketch is --> 208000\n"
          ],
          "name": "stdout"
        }
      ]
    },
    {
      "cell_type": "markdown",
      "metadata": {
        "id": "xCn_rA6Er39a"
      },
      "source": [
        "Misra Gries Min d value = 100 because we already saw above that at k = 100 the error comes out to be 0.01 or 1% and hence the d = 100/5 = 20"
      ]
    }
  ]
}